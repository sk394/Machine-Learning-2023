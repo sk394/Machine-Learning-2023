{
 "cells": [
  {
   "cell_type": "code",
   "execution_count": 3,
   "id": "a3aa795a",
   "metadata": {},
   "outputs": [
    {
     "name": "stdout",
     "output_type": "stream",
     "text": [
      "Initial weights:  [-1.32763318  0.01897356  1.32512601  0.07142485  0.1210571   0.79869042\n",
      "  0.27087072 -0.70114626  0.45067375 -0.4624877   0.79614475]\n",
      "\n",
      "Final weights:  [152.09246411   6.50222584   2.56614501  20.85200689  15.69324518\n",
      "   8.0045466    6.0817006  -14.54947341  15.40280602  19.48289154\n",
      "  14.14254812]\n"
     ]
    }
   ],
   "source": [
    "from sklearn.datasets import load_diabetes\n",
    "import numpy as np\n",
    "\n",
    "#load diabetes data\n",
    "data = load_diabetes()\n",
    "X = data.data\n",
    "y = data.target\n",
    "\n",
    "#add dummy\n",
    "dummy = np.ones((X.shape[0],1))\n",
    "X = np.concatenate((dummy,X), axis =1)\n",
    "\n",
    "#initialize w\n",
    "w = np.random.randn(X.shape[1])\n",
    "print(\"Initial weights: \", w)\n",
    "print(\"\")\n",
    "eta = 0.01  #learning rate\n",
    "alpha = 0.1 #regularization parameter\n",
    "max_steps = 1000\n",
    "error = 1e-6\n",
    "\n",
    "#run the gradient descent\n",
    "for i in range(max_steps):\n",
    "    #compute predicted outputs\n",
    "    y_pred = X@w\n",
    "    \n",
    "    #compute L2 regularization\n",
    "    L2 = alpha* w  #formula is (1/2)summation(w^2)*alpha so its derivative is alpha * w\n",
    "    \n",
    "    #compoute gradient and update w\n",
    "    g = (1/X.shape[0])* (X.T@(y_pred-y)+L2)\n",
    "    w = w - eta * g\n",
    "    \n",
    "    #check for convergence\n",
    "    if np.abs(g).max() < error:\n",
    "        break\n",
    "\n",
    "print(\"Final weights: \", w)"
   ]
  },
  {
   "cell_type": "code",
   "execution_count": null,
   "id": "71e119f8",
   "metadata": {},
   "outputs": [],
   "source": []
  }
 ],
 "metadata": {
  "kernelspec": {
   "display_name": "Python 3 (ipykernel)",
   "language": "python",
   "name": "python3"
  },
  "language_info": {
   "codemirror_mode": {
    "name": "ipython",
    "version": 3
   },
   "file_extension": ".py",
   "mimetype": "text/x-python",
   "name": "python",
   "nbconvert_exporter": "python",
   "pygments_lexer": "ipython3",
   "version": "3.9.15"
  }
 },
 "nbformat": 4,
 "nbformat_minor": 5
}
