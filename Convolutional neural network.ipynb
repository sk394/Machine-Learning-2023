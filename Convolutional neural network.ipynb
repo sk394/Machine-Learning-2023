{
 "cells": [
  {
   "cell_type": "code",
   "execution_count": 1,
   "id": "da91f616",
   "metadata": {},
   "outputs": [],
   "source": [
    "import tensorflow as tf\n",
    "from tensorflow import keras\n"
   ]
  },
  {
   "cell_type": "code",
   "execution_count": 2,
   "id": "3c0045e5",
   "metadata": {},
   "outputs": [],
   "source": [
    "model = keras.models.Sequential()\n",
    "model.add(keras.layers.Conv2D(filters=32, kernel_size=(5,5), strides=(1,1), padding='same',\n",
    "          input_shape=[28,28,1], activation='relu'))\n",
    "model.add(keras.layers.MaxPool2D(pool_size=(2,2)))\n",
    "model.add(keras.layers.Conv2D(filters=64, kernel_size=(5,5), strides=(1,1), padding='same',\n",
    "          activation='relu'))\n",
    "model.add(keras.layers.MaxPool2D(pool_size=(2,2)))\n",
    "model.add(keras.layers.Flatten())\n",
    "model.add(keras.layers.Dense(1024,activation='relu'))\n",
    "model.add(keras.layers.Dropout(rate=0.1))\n",
    "model.add(keras.layers.Dense(10,activation='softmax'))"
   ]
  },
  {
   "cell_type": "code",
   "execution_count": 3,
   "id": "301bb914",
   "metadata": {},
   "outputs": [
    {
     "name": "stdout",
     "output_type": "stream",
     "text": [
      "(60000, 28, 28) (10000, 28, 28)\n"
     ]
    }
   ],
   "source": [
    "from keras.datasets import mnist\n",
    "(X_train,y_train),(X_test, y_test)= mnist.load_data()\n",
    "X_train = X_train/255\n",
    "X_test =X_test/255\n",
    "print(X_train.shape, X_test.shape)"
   ]
  },
  {
   "cell_type": "code",
   "execution_count": 4,
   "id": "28666c58",
   "metadata": {},
   "outputs": [],
   "source": [
    "model.compile(loss=keras.losses.SparseCategoricalCrossentropy(), optimizer=keras.optimizers.Adam(),metrics=['accuracy'])"
   ]
  },
  {
   "cell_type": "code",
   "execution_count": 5,
   "id": "034942f7",
   "metadata": {},
   "outputs": [
    {
     "name": "stdout",
     "output_type": "stream",
     "text": [
      "Epoch 1/10\n",
      "1688/1688 [==============================] - 93s 54ms/step - loss: 0.1059 - accuracy: 0.9664 - val_loss: 0.0422 - val_accuracy: 0.9875\n",
      "Epoch 2/10\n",
      "1688/1688 [==============================] - 120s 71ms/step - loss: 0.0365 - accuracy: 0.9887 - val_loss: 0.0434 - val_accuracy: 0.9895\n",
      "Epoch 3/10\n",
      "1688/1688 [==============================] - 127s 75ms/step - loss: 0.0263 - accuracy: 0.9916 - val_loss: 0.0324 - val_accuracy: 0.9913\n",
      "Epoch 4/10\n",
      "1688/1688 [==============================] - 128s 76ms/step - loss: 0.0180 - accuracy: 0.9941 - val_loss: 0.0372 - val_accuracy: 0.9903\n",
      "Epoch 5/10\n",
      "1688/1688 [==============================] - 127s 75ms/step - loss: 0.0159 - accuracy: 0.9950 - val_loss: 0.0537 - val_accuracy: 0.9885\n",
      "Epoch 6/10\n",
      "1688/1688 [==============================] - 125s 74ms/step - loss: 0.0122 - accuracy: 0.9961 - val_loss: 0.0456 - val_accuracy: 0.9917\n",
      "Epoch 7/10\n",
      "1688/1688 [==============================] - 127s 75ms/step - loss: 0.0091 - accuracy: 0.9971 - val_loss: 0.0443 - val_accuracy: 0.9908\n",
      "Epoch 8/10\n",
      "1688/1688 [==============================] - 135s 80ms/step - loss: 0.0092 - accuracy: 0.9972 - val_loss: 0.0430 - val_accuracy: 0.9922\n",
      "Epoch 9/10\n",
      "1688/1688 [==============================] - 135s 80ms/step - loss: 0.0081 - accuracy: 0.9976 - val_loss: 0.0467 - val_accuracy: 0.9912\n",
      "Epoch 10/10\n",
      "1688/1688 [==============================] - 134s 80ms/step - loss: 0.0067 - accuracy: 0.9980 - val_loss: 0.0599 - val_accuracy: 0.9905\n"
     ]
    },
    {
     "data": {
      "text/plain": [
       "<keras.callbacks.History at 0x196e647fb50>"
      ]
     },
     "execution_count": 5,
     "metadata": {},
     "output_type": "execute_result"
    }
   ],
   "source": [
    "model.fit(X_train, y_train, epochs=10,validation_split=0.1)"
   ]
  },
  {
   "cell_type": "code",
   "execution_count": null,
   "id": "1552f5a8",
   "metadata": {},
   "outputs": [],
   "source": []
  }
 ],
 "metadata": {
  "kernelspec": {
   "display_name": "Python 3 (ipykernel)",
   "language": "python",
   "name": "python3"
  },
  "language_info": {
   "codemirror_mode": {
    "name": "ipython",
    "version": 3
   },
   "file_extension": ".py",
   "mimetype": "text/x-python",
   "name": "python",
   "nbconvert_exporter": "python",
   "pygments_lexer": "ipython3",
   "version": "3.9.15"
  }
 },
 "nbformat": 4,
 "nbformat_minor": 5
}
