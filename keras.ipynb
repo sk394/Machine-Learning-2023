{
 "cells": [
  {
   "cell_type": "code",
   "execution_count": 1,
   "id": "fb7b0188",
   "metadata": {},
   "outputs": [],
   "source": [
    "import tensorflow as tf\n",
    "from tensorflow import keras"
   ]
  },
  {
   "cell_type": "code",
   "execution_count": 3,
   "id": "ada9bb19",
   "metadata": {},
   "outputs": [
    {
     "name": "stdout",
     "output_type": "stream",
     "text": [
      "(16512, 8) (4128, 8)\n"
     ]
    }
   ],
   "source": [
    "#house dataset\n",
    "from sklearn.datasets import fetch_california_housing\n",
    "house = fetch_california_housing()\n",
    "X = house.data\n",
    "y = house.target\n",
    "\n",
    "#rescale\n",
    "from sklearn.preprocessing import StandardScaler\n",
    "X_scale = StandardScaler().fit(X).transform(X)\n",
    "\n",
    "#split data\n",
    "from sklearn.model_selection import train_test_split\n",
    "X_train,X_test,y_train,y_test=train_test_split(X_scale, y,\n",
    "                                              test_size=0.2, random_state=0)\n",
    "print(X_train.shape, X_test.shape)"
   ]
  },
  {
   "cell_type": "code",
   "execution_count": 4,
   "id": "1718c219",
   "metadata": {},
   "outputs": [],
   "source": [
    "input = keras.layers.Input(shape=8)\n",
    "hidden1 = keras.layers.Dense(30,activation='relu')(input)\n",
    "hidden2 = keras.layers.Dense(30,activation='relu')(hidden1)\n",
    "concat= keras.layers.Concatenate()([input, hidden2])\n",
    "output=keras.layers.Dense(1)(concat)\n",
    "model = keras.models.Model(inputs=[input], outputs=[output])"
   ]
  },
  {
   "cell_type": "code",
   "execution_count": 5,
   "id": "551c2ad6",
   "metadata": {},
   "outputs": [],
   "source": [
    "model.compile(loss='mse',optimizer='sgd')"
   ]
  },
  {
   "cell_type": "code",
   "execution_count": 7,
   "id": "3504dad6",
   "metadata": {},
   "outputs": [
    {
     "name": "stdout",
     "output_type": "stream",
     "text": [
      "Epoch 1/30\n",
      "465/465 [==============================] - 1s 2ms/step - loss: 0.3698 - val_loss: 0.3167\n",
      "Epoch 2/30\n",
      "465/465 [==============================] - 1s 1ms/step - loss: 0.3659 - val_loss: 0.3161\n",
      "Epoch 3/30\n",
      "465/465 [==============================] - 1s 2ms/step - loss: 0.3602 - val_loss: 0.3765\n",
      "Epoch 4/30\n",
      "465/465 [==============================] - 1s 2ms/step - loss: 0.3611 - val_loss: 0.3045\n",
      "Epoch 5/30\n",
      "465/465 [==============================] - 1s 2ms/step - loss: 0.3559 - val_loss: 0.3023\n",
      "Epoch 6/30\n",
      "465/465 [==============================] - 1s 2ms/step - loss: 0.3501 - val_loss: 0.2987\n",
      "Epoch 7/30\n",
      "465/465 [==============================] - 1s 1ms/step - loss: 0.3427 - val_loss: 0.2955\n",
      "Epoch 8/30\n",
      "465/465 [==============================] - 1s 1ms/step - loss: 0.3448 - val_loss: 0.3043\n",
      "Epoch 9/30\n",
      "465/465 [==============================] - 1s 1ms/step - loss: 0.3445 - val_loss: 0.2930\n",
      "Epoch 10/30\n",
      "465/465 [==============================] - 1s 1ms/step - loss: 0.3455 - val_loss: 0.3221\n",
      "Epoch 11/30\n",
      "465/465 [==============================] - 1s 2ms/step - loss: 0.3543 - val_loss: 0.2901\n",
      "Epoch 12/30\n",
      "465/465 [==============================] - 1s 2ms/step - loss: 0.3528 - val_loss: 0.2891\n",
      "Epoch 13/30\n",
      "465/465 [==============================] - 1s 1ms/step - loss: 0.3309 - val_loss: 0.2886\n",
      "Epoch 14/30\n",
      "465/465 [==============================] - 1s 2ms/step - loss: 0.3275 - val_loss: 0.2884\n",
      "Epoch 15/30\n",
      "465/465 [==============================] - 1s 2ms/step - loss: 0.3257 - val_loss: 0.2953\n",
      "Epoch 16/30\n",
      "465/465 [==============================] - 1s 1ms/step - loss: 0.3229 - val_loss: 0.3570\n",
      "Epoch 17/30\n",
      "465/465 [==============================] - 1s 1ms/step - loss: 0.3257 - val_loss: 0.2941\n",
      "Epoch 18/30\n",
      "465/465 [==============================] - 1s 2ms/step - loss: 0.3206 - val_loss: 0.3279\n",
      "Epoch 19/30\n",
      "465/465 [==============================] - 1s 1ms/step - loss: 0.3215 - val_loss: 0.2811\n",
      "Epoch 20/30\n",
      "465/465 [==============================] - 1s 2ms/step - loss: 0.3157 - val_loss: 0.3411\n",
      "Epoch 21/30\n",
      "465/465 [==============================] - 1s 2ms/step - loss: 0.3146 - val_loss: 0.2766\n",
      "Epoch 22/30\n",
      "465/465 [==============================] - 1s 2ms/step - loss: 0.3255 - val_loss: 0.2816\n",
      "Epoch 23/30\n",
      "465/465 [==============================] - 1s 2ms/step - loss: 0.3126 - val_loss: 0.2856\n",
      "Epoch 24/30\n",
      "465/465 [==============================] - 1s 2ms/step - loss: 0.3116 - val_loss: 0.2743\n",
      "Epoch 25/30\n",
      "465/465 [==============================] - 1s 1ms/step - loss: 0.3151 - val_loss: 0.2930\n",
      "Epoch 26/30\n",
      "465/465 [==============================] - 1s 2ms/step - loss: 0.3194 - val_loss: 0.2989\n",
      "Epoch 27/30\n",
      "465/465 [==============================] - 1s 2ms/step - loss: 0.3076 - val_loss: 0.2809\n",
      "Epoch 28/30\n",
      "465/465 [==============================] - 1s 1ms/step - loss: 0.3131 - val_loss: 0.2745\n",
      "Epoch 29/30\n",
      "465/465 [==============================] - 1s 2ms/step - loss: 0.3042 - val_loss: 0.2959\n",
      "Epoch 30/30\n",
      "465/465 [==============================] - 1s 2ms/step - loss: 0.3051 - val_loss: 0.2937\n"
     ]
    },
    {
     "data": {
      "text/plain": [
       "<keras.callbacks.History at 0x276d3c63850>"
      ]
     },
     "execution_count": 7,
     "metadata": {},
     "output_type": "execute_result"
    }
   ],
   "source": [
    "model.fit(X_train, y_train,epochs=30,validation_split=0.1)"
   ]
  },
  {
   "cell_type": "code",
   "execution_count": 8,
   "id": "c20ee622",
   "metadata": {},
   "outputs": [
    {
     "name": "stdout",
     "output_type": "stream",
     "text": [
      "Model: \"model\"\n",
      "__________________________________________________________________________________________________\n",
      " Layer (type)                   Output Shape         Param #     Connected to                     \n",
      "==================================================================================================\n",
      " input_1 (InputLayer)           [(None, 8)]          0           []                               \n",
      "                                                                                                  \n",
      " dense (Dense)                  (None, 30)           270         ['input_1[0][0]']                \n",
      "                                                                                                  \n",
      " dense_1 (Dense)                (None, 30)           930         ['dense[0][0]']                  \n",
      "                                                                                                  \n",
      " concatenate (Concatenate)      (None, 38)           0           ['input_1[0][0]',                \n",
      "                                                                  'dense_1[0][0]']                \n",
      "                                                                                                  \n",
      " dense_2 (Dense)                (None, 1)            39          ['concatenate[0][0]']            \n",
      "                                                                                                  \n",
      "==================================================================================================\n",
      "Total params: 1,239\n",
      "Trainable params: 1,239\n",
      "Non-trainable params: 0\n",
      "__________________________________________________________________________________________________\n"
     ]
    }
   ],
   "source": [
    "model.summary()"
   ]
  },
  {
   "cell_type": "code",
   "execution_count": 9,
   "id": "85871619",
   "metadata": {},
   "outputs": [
    {
     "name": "stdout",
     "output_type": "stream",
     "text": [
      "1/1 [==============================] - 0s 97ms/step\n",
      "[[1.5670383 ]\n",
      " [2.488556  ]\n",
      " [1.5042796 ]\n",
      " [0.79375416]\n",
      " [3.8762136 ]\n",
      " [2.4983017 ]\n",
      " [2.734212  ]\n",
      " [3.6968474 ]\n",
      " [2.9463792 ]\n",
      " [2.4785085 ]]\n",
      "[1.369 2.413 2.007 0.725 4.6   1.2   2.47  3.369 3.397 2.656]\n"
     ]
    }
   ],
   "source": [
    "X_new = X_test[:10]\n",
    "y_hat=model.predict(X_new)\n",
    "print(y_hat)\n",
    "print(y_test[:10])"
   ]
  },
  {
   "cell_type": "code",
   "execution_count": 10,
   "id": "a4f22f24",
   "metadata": {},
   "outputs": [],
   "source": [
    "import tensorflow as tf\n",
    "from tensorflow import keras"
   ]
  },
  {
   "cell_type": "code",
   "execution_count": 11,
   "id": "8212cf91",
   "metadata": {},
   "outputs": [],
   "source": [
    "class WideDeep(keras.models.Model):\n",
    "    def __init__(self,units=30,activation='relu', **kwargs):\n",
    "        super().__init__(**kwargs)\n",
    "        self.hidden1=keras.layers.Dense(units,activation=activation)\n",
    "        self.hidden2=keras.layers.Dense(units, activation=activation)\n",
    "        self.main_output=keras.layers.Dense(1)\n",
    "        self.aux_output=keras.layers.Dense(1)\n",
    "        \n",
    "    def call(self,inputs):\n",
    "        input_A, input_B = inputs\n",
    "        hidden1 = self.hidden1(input_B)\n",
    "        hidden2= self.hidden2(hidden1)\n",
    "        concat = keras.layers.Concatenate()([input_A,hidden2])\n",
    "        main_output= self.main_output(concat)\n",
    "        aux_output=self.aux_output(hidden2)\n",
    "        return main_output, aux_output\n",
    "        "
   ]
  },
  {
   "cell_type": "code",
   "execution_count": 12,
   "id": "06becf7b",
   "metadata": {},
   "outputs": [],
   "source": [
    "model = WideDeep()\n",
    "model.compile(loss='mse',optimizer='sgd')"
   ]
  },
  {
   "cell_type": "code",
   "execution_count": 21,
   "id": "abc7cb4f",
   "metadata": {},
   "outputs": [
    {
     "name": "stdout",
     "output_type": "stream",
     "text": [
      "(16512, 6) (16512,)\n"
     ]
    }
   ],
   "source": [
    "#X_train\n",
    "X_train_A,X_train_B= X_train[:,:6:],X_train[:,-5]\n",
    "print(X_train_A.shape,X_train_B.shape)"
   ]
  },
  {
   "cell_type": "code",
   "execution_count": null,
   "id": "41479f4c",
   "metadata": {},
   "outputs": [],
   "source": []
  }
 ],
 "metadata": {
  "kernelspec": {
   "display_name": "Python 3 (ipykernel)",
   "language": "python",
   "name": "python3"
  },
  "language_info": {
   "codemirror_mode": {
    "name": "ipython",
    "version": 3
   },
   "file_extension": ".py",
   "mimetype": "text/x-python",
   "name": "python",
   "nbconvert_exporter": "python",
   "pygments_lexer": "ipython3",
   "version": "3.9.15"
  }
 },
 "nbformat": 4,
 "nbformat_minor": 5
}
